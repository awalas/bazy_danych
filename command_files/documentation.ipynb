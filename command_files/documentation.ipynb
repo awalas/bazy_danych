{
 "cells": [
  {
   "cell_type": "markdown",
   "id": "459c1955",
   "metadata": {},
   "source": [
    "Wymagania wstępne. <br/>\n",
    "W celu analizy danych pogodowych wymagany jest język programowania python wraz z pakietem pandas, numpy oraz matplotlib. Pobranie odpowiednich pakietów jest zrealizowane za pomocą instrukcji import.\n",
    "\n",
    "Zawartość folderów <br/>\n",
    "- original_data - dane oryginalne, pobrane z udostępnionego źródła\n",
    "- documents - dokumentacja\n",
    "- analysis - dane przetworzone\n",
    "- command_files - instrukcje niezbędne do powtórzenia analizy przeprowadzonej na danych\n",
    "\n",
    "\n",
    "Etapy pracy:\n",
    "1. Wczytanie danych.<br/>\n",
    "Należy pobrać plik weather.txt, do zmiennej path należy podać ścieżkę, w której znajduje się wspomniany plik, zmienna width oznacza długość poszczególnych wyrazów/danych- id, roku, miesiąca, typu danych. Następnie przy wykorzystaniu funkcji pakietu pandas dane zostają wczytane.\n",
    "2. Usunięcie wartości 'S','I','O' oraz NaN.<br/>\n",
    "Wartości 'S','I','O' oraz NaN nie zawierają informacji o temperaturze, stąd należy je usunąć. Dane te występują co 2 kolumnę, stąd wykorzystując pętlę for oraz funkcję drop pakietu pandas zostały one usunięte. Atrybut axis funkcji drop należy ustawić na 1, aby pod uwagę brane były kolumny. <br/>\n",
    "Wartości -9999 oznaczają dane zgubione lub brak pomiaru danych. Zostaną one odfiltrowane w dalszej części.\n",
    "3. Zmiana nazw kolumn.<br/>\n",
    "Wykorzystując pętlę for stworzony zostaje słownik zawierający indeksy do zmiany oraz odpowiadające im nowe etykiety dla poszczególnych kolumn. Korzystając z funkcji rename pakietu pandas dokonano zmiany etykiet w poszczególnych kolumnach. Jako argument columns należy podac stworzony wcześniej słownik.\n",
    "4. Filtracja danych- 5 miesięcy z 2010 roku.<br/>\n",
    "Do funkcji loc pakietu pandas należy przekazać porównanie, w którym podaje się nazwę kolumny danych na podstawie, którego dokonuje się porównania oraz wartość porównywaną. Dane zostają odfiltrowane ze względu na rok oraz miesiąc- 5 ostatnich miesięcy 2010 roku.\n",
    "5. Wyświetlenie maksymalnej temperatury w wybranym miesiącu.\n",
    "Korzystając z logiki opisanej w punkcie 4 wyróżnia się maksymalną temperaturę dla konkretnego miesiąca. Następnie korzystając z slicingu dane dotyczące temperatury w konkretnych dniach zostają przypisane do zmiennej temp, która zostaje zamieniona na listę. Pętla for iteruje po elementach listy temp i zamienia wartości -9999 na wartości NaN (nie zostaną one wyświetlone). Następnie funkcja scatter wyświetla maksymalne temperatury dla poszczególnych dni, z pominięciem dni, w których danych nie zebrano. \n",
    "6. Zapis danych do pliku.\n",
    "Funkcja to_csv realizuje zapis do pliku danych końcowych. Jako parametr nalezy podać ścieżkę wraz z nazwą pliku."
   ]
  }
 ],
 "metadata": {
  "kernelspec": {
   "display_name": "Python 3",
   "language": "python",
   "name": "python3"
  },
  "language_info": {
   "codemirror_mode": {
    "name": "ipython",
    "version": 3
   },
   "file_extension": ".py",
   "mimetype": "text/x-python",
   "name": "python",
   "nbconvert_exporter": "python",
   "pygments_lexer": "ipython3",
   "version": "3.8.8"
  }
 },
 "nbformat": 4,
 "nbformat_minor": 5
}
