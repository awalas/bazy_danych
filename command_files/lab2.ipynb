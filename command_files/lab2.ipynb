{
 "cells": [
  {
   "cell_type": "markdown",
   "id": "3f697aa9",
   "metadata": {},
   "source": [
    "Aneta Walas 302933"
   ]
  },
  {
   "cell_type": "code",
   "execution_count": 1,
   "id": "10fca897",
   "metadata": {},
   "outputs": [],
   "source": [
    "import pandas as pd\n",
    "import numpy as np\n",
    "import matplotlib.pyplot as plt"
   ]
  },
  {
   "cell_type": "code",
   "execution_count": 2,
   "id": "0d503c87",
   "metadata": {},
   "outputs": [],
   "source": [
    "path = \"Documents/bazy/bazy_danych/original_data/weather.txt\"\n",
    "width = [11,4,2,4]+[5,3]*31\n",
    "weather_data = pd.read_fwf(path, widths=width, header=None)"
   ]
  },
  {
   "cell_type": "code",
   "execution_count": 3,
   "id": "13effa17",
   "metadata": {},
   "outputs": [],
   "source": [
    "for data in range(5,67,2):\n",
    "    weather_data= weather_data.drop(data,axis=1)"
   ]
  },
  {
   "cell_type": "code",
   "execution_count": 4,
   "id": "892f59a8",
   "metadata": {},
   "outputs": [],
   "source": [
    "names = {}\n",
    "for i in range(-3, 32):\n",
    "    names[i] = ('d'+str(i))\n",
    "weather_data = weather_data.set_axis(names.values(), axis=1, inplace=False)\n",
    "column_names = {0 : 'id', 1:'year',2:'month',3:'type'}\n",
    "weather_data = weather_data.rename(columns = {'d-3' : 'id', 'd-2':'year','d-1':'month','d0':'type'})"
   ]
  },
  {
   "cell_type": "code",
   "execution_count": 5,
   "id": "82c1f480",
   "metadata": {},
   "outputs": [],
   "source": [
    "weather_2010 = weather_data.loc[weather_data['year'] == 2010]"
   ]
  },
  {
   "cell_type": "code",
   "execution_count": 6,
   "id": "359c9869",
   "metadata": {},
   "outputs": [],
   "source": [
    "months = weather_2010.loc[weather_2010['month'] > 7]"
   ]
  },
  {
   "cell_type": "code",
   "execution_count": 7,
   "id": "2813f9cc",
   "metadata": {},
   "outputs": [],
   "source": [
    "max_temp = months.loc[months['type'] == 'TMAX']"
   ]
  },
  {
   "cell_type": "code",
   "execution_count": 8,
   "id": "66a0cdd5",
   "metadata": {},
   "outputs": [],
   "source": [
    "temp = max_temp.iloc[0, 4:]\n",
    "temp_list = list(temp)"
   ]
  },
  {
   "cell_type": "code",
   "execution_count": 9,
   "id": "76ce2ceb",
   "metadata": {},
   "outputs": [],
   "source": [
    "for i in range(len(temp_list)):\n",
    "    if temp_list[i] == -9999:\n",
    "        temp_list[i] = np.nan"
   ]
  },
  {
   "cell_type": "code",
   "execution_count": 10,
   "id": "5d5ef501",
   "metadata": {},
   "outputs": [
    {
     "data": {
      "text/plain": [
       "<matplotlib.collections.PathCollection at 0x7fe12ed180a0>"
      ]
     },
     "execution_count": 10,
     "metadata": {},
     "output_type": "execute_result"
    },
    {
     "data": {
      "image/png": "[encoded data removed]",
      "text/plain": [
       "<Figure size 432x288 with 1 Axes>"
      ]
     },
     "metadata": {
      "needs_background": "light"
     },
     "output_type": "display_data"
    }
   ],
   "source": [
    "plt.scatter(temp.keys(), temp_list)"
   ]
  },
  {
   "cell_type": "code",
   "execution_count": 11,
   "id": "19f432b2",
   "metadata": {},
   "outputs": [],
   "source": [
    "months.to_csv('Documents/bazy/bazy_danych/analysis/data_5months_2010.csv')"
   ]
  }
 ],
 "metadata": {
  "kernelspec": {
   "display_name": "Python 3",
   "language": "python",
   "name": "python3"
  },
  "language_info": {
   "codemirror_mode": {
    "name": "ipython",
    "version": 3
   },
   "file_extension": ".py",
   "mimetype": "text/x-python",
   "name": "python",
   "nbconvert_exporter": "python",
   "pygments_lexer": "ipython3",
   "version": "3.8.8"
  }
 },
 "nbformat": 4,
 "nbformat_minor": 5
}
